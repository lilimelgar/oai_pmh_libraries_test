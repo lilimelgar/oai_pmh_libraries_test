{
 "cells": [
  {
   "cell_type": "raw",
   "metadata": {},
   "source": [
    "This notebook tests different (python) libraries that harvest records from an oai pmh endpoint.\n",
    "The libraries are found via a normal internet search, and two are obtained by recommendation (slack channel \"who knows what\"\n",
    "Created on May 15, 2023 by Liliana Melgar, then adapted together with Ivo Zandhuis"
   ]
  },
  {
   "cell_type": "markdown",
   "metadata": {},
   "source": [
    "# Import default libraries"
   ]
  },
  {
   "cell_type": "code",
   "execution_count": null,
   "metadata": {},
   "outputs": [],
   "source": [
    "# import pandas as pd\n",
    "# import re\n",
    "\n",
    "# # library to extract files with only a certain extension\n",
    "# import os\n",
    "# import sys"
   ]
  },
  {
   "cell_type": "markdown",
   "metadata": {},
   "source": [
    "# Select URL (oai endpoints)"
   ]
  },
  {
   "cell_type": "code",
   "execution_count": null,
   "metadata": {},
   "outputs": [],
   "source": [
    "# SOCIALHISTORYSERVICES OAI (public)\n",
    "# URL = 'http://api.socialhistoryservices.org/solr/all/oai' #general, downloads ALL records\n",
    "## needs set= to select between authorities or bibliographic records\n",
    "## set='iish.evergreen.biblio'\n",
    "## set='iish.evergreen.authority'\n",
    "\n",
    "# EVERGREEN (on site only)\n",
    "URL = 'https://evergreen.iisg.amsterdam/opac/extras/oai/authority' #authorities only\n",
    "# URL = 'https://evergreen.iisg.amsterdam/opac/extras/oai/biblio' #bibliographic records only"
   ]
  },
  {
   "cell_type": "markdown",
   "metadata": {},
   "source": [
    "# Test with pyoai"
   ]
  },
  {
   "cell_type": "code",
   "execution_count": null,
   "metadata": {},
   "outputs": [],
   "source": [
    "# install https://pypi.org/project/pyoai/#files --> I already installed it, so, I comment this line\n",
    "# pip install pyoai"
   ]
  },
  {
   "cell_type": "code",
   "execution_count": null,
   "metadata": {},
   "outputs": [],
   "source": [
    "# PYOAI (https://pypi.org/project/pyoai/)\n",
    "from oaipmh.client import Client\n",
    "from oaipmh.metadata import MetadataRegistry, oai_dc_reader"
   ]
  },
  {
   "cell_type": "code",
   "execution_count": null,
   "metadata": {},
   "outputs": [],
   "source": [
    "registry = MetadataRegistry()\n",
    "registry.registerReader('marcxml', oai_dc_reader)\n",
    "client = Client(URL, registry)"
   ]
  },
  {
   "cell_type": "code",
   "execution_count": null,
   "metadata": {},
   "outputs": [],
   "source": [
    "# for record in client.listRecords(metadataPrefix='marcxml', set='iish.evergreen.authority'):\n",
    "for record in client.listRecords(metadataPrefix='marcxml'):\n",
    "    # the array indicates the part of the record: header or metadata. The field names can be used after the dot\n",
    "#     print(record[0].identifier())\n",
    "    print(record)"
   ]
  },
  {
   "cell_type": "code",
   "execution_count": null,
   "metadata": {},
   "outputs": [],
   "source": [
    "# file_name = 'test_export_12may.xml' # export 12 May 2023 of all records from socialhistoryservices authorities\n",
    "file_name = 'export_20230516_evergreen_pyoai.xml' # export of all records from evergreen oai authorities\n",
    "\n",
    "# export records\n",
    "with open(file_name, 'wb') as fp:\n",
    "    for record in client.listRecords(metadataPrefix='marcxml'):\n",
    "        fp.write(record)"
   ]
  },
  {
   "cell_type": "markdown",
   "metadata": {},
   "source": [
    "conclusion of the test:\n",
    "- This library has limited documentation and examples.\n",
    "- I dind't manage to fetch the records, it gives a response, but it's not the record data.\n",
    "- I managed to find an example about how to call the specific part of the output data --> (record[0].identifier()) calls the header and gets the identifier. However, I didn't manage to get data from array [1].metadata. \n",
    "- for socialhistory...: I am not sure why the call only retrieves 156 items (at least in display), even though the last one has an Id that seems to be the last Id? 2042661. \n",
    "- for evergreen: same issue. Via the direct call in the browser, only 50 items are retrieved, so, the call here does retrieve more items, but apparently only a sample from begin/middle/end?\n",
    "- No idea how to filter..."
   ]
  },
  {
   "cell_type": "markdown",
   "metadata": {},
   "source": [
    "# Test Polymatheia library"
   ]
  },
  {
   "cell_type": "code",
   "execution_count": null,
   "metadata": {},
   "outputs": [],
   "source": [
    "# install: https://pypi.org/project/polymatheia/#files\n",
    "# pip install polymatheia"
   ]
  },
  {
   "cell_type": "code",
   "execution_count": null,
   "metadata": {},
   "outputs": [],
   "source": [
    "# POLYMATHEIA (https://polymatheia.readthedocs.io/en/latest/recipes/oai-pmh.html)\n",
    "# finding available sets\n",
    "from polymatheia.data.reader import OAISetReader\n",
    "# finding the available MetadataFormats\n",
    "from polymatheia.data.reader import OAIMetadataFormatReader\n",
    "# fetching records\n",
    "from polymatheia.data.reader import OAIRecordReader\n",
    "\n",
    "# basic filters\n",
    "from polymatheia.filter import RecordsFilter"
   ]
  },
  {
   "cell_type": "code",
   "execution_count": null,
   "metadata": {},
   "outputs": [],
   "source": [
    "# Finding the available Sets\n",
    "reader = OAISetReader(URL)\n",
    "\n",
    "for setSpec in reader:\n",
    "    print(setSpec)"
   ]
  },
  {
   "cell_type": "code",
   "execution_count": null,
   "metadata": {},
   "outputs": [],
   "source": [
    "# Finding the available MetadataFormats\n",
    "reader = OAIMetadataFormatReader(URL)\n",
    "for format in reader:\n",
    "    print(format)"
   ]
  },
  {
   "cell_type": "code",
   "execution_count": null,
   "metadata": {},
   "outputs": [],
   "source": [
    "# Fetching records (to get them all, delete parameter max_records)\n",
    "reader = OAIRecordReader(URL, max_records = 3)\n",
    "for record in reader:\n",
    "    print(record)"
   ]
  },
  {
   "cell_type": "code",
   "execution_count": null,
   "metadata": {},
   "outputs": [],
   "source": [
    "# Selecting by set / (to get them all, delete parameter max_records)\n",
    "\n",
    "## Socialhistoryservices\n",
    "reader = OAIRecordReader(URL, set_spec='iish.evergreen.biblio', max_records = 3)\n",
    "\n",
    "## Evergreen oai\n",
    "# reader = OAIRecordReader(URL, set_spec='author') ## for evergreen\n",
    "\n",
    "\n",
    "for record in reader:\n",
    "    print(record)"
   ]
  },
  {
   "cell_type": "code",
   "execution_count": null,
   "metadata": {},
   "outputs": [],
   "source": [
    "# Selecting the metadata format (to get them all, delete parameter max_records)\n",
    "\n",
    "## Socialhistoryservices\n",
    "reader = OAIRecordReader(URL, max_records=3, set_spec='iish.evergreen.biblio', metadata_prefix='marcxml') # for socialhistory services\n",
    "\n",
    "## Evergreen\n",
    "# reader = OAIRecordReader(URL, max_records=3, set_spec='author', metadata_prefix='marcxml') # for evergreen\n",
    "# reader = OAIRecordReader(URL, max_records=3, metadata_prefix='marcxml') # for evergreen (complete)\n",
    "\n",
    "for record in reader:\n",
    "    print(record)"
   ]
  },
  {
   "cell_type": "code",
   "execution_count": null,
   "metadata": {},
   "outputs": [],
   "source": [
    "type(record)"
   ]
  },
  {
   "cell_type": "code",
   "execution_count": null,
   "metadata": {},
   "outputs": [],
   "source": [
    "# # applying filters (test failed...)\n",
    "\n",
    "# reader = OAIRecordReader(URL, max_records=10, set_spec='iish.evergreen.biblio', metadata_prefix='oai_dc')\n",
    "# fltr = ('contains', ['dc_subject'], 'Women')\n",
    "# images = RecordsFilter(reader, fltr)\n",
    "# for record in images:\n",
    "#     print(record)"
   ]
  },
  {
   "cell_type": "code",
   "execution_count": null,
   "metadata": {},
   "outputs": [],
   "source": [
    "# file_name = 'test_export_12may.xml' # export 12 May 2023 of all records from socialhistoryservices authorities\n",
    "file_name = 'export_20230516_evergreen_polymatheia.xml' # export of all records from evergreen oai authorities\n",
    "\n",
    "# export records\n",
    "with open(file_name, 'wb') as fp:\n",
    "    fp.write(reader)"
   ]
  },
  {
   "cell_type": "markdown",
   "metadata": {},
   "source": [
    "Test conclusion:\n",
    "- this library is well documented!\n",
    "- it works for both services (authorities)\n",
    "- Pending to test for records"
   ]
  },
  {
   "cell_type": "markdown",
   "metadata": {},
   "source": [
    "# Test with Sickle"
   ]
  },
  {
   "cell_type": "code",
   "execution_count": null,
   "metadata": {},
   "outputs": [],
   "source": [
    "# install https://sickle.readthedocs.io/en/latest/installation.html --> I already installed it, so, I comment this line\n",
    "# pip install sickle"
   ]
  },
  {
   "cell_type": "code",
   "execution_count": null,
   "metadata": {},
   "outputs": [],
   "source": [
    "# SICKLE (https://sickle.readthedocs.io/en/latest/index.html)\n",
    "from sickle import Sickle\n",
    "from sickle.iterator import OAIResponseIterator"
   ]
  },
  {
   "cell_type": "code",
   "execution_count": null,
   "metadata": {},
   "outputs": [],
   "source": [
    "# Initialize an OAI interface\n",
    "sickle = Sickle(URL)"
   ]
  },
  {
   "cell_type": "code",
   "execution_count": null,
   "metadata": {},
   "outputs": [],
   "source": [
    "# Issuing requests (to get them all, delete parameter max_records)\n",
    "\n",
    "## Socialhistoryservices\n",
    "# records = sickle.ListRecords(metadataPrefix='marcxml', max_records = 1, set='iish.evergreen.authority', ignore_deleted=True) ##GOOD ONE\n",
    "records = sickle.ListRecords(metadataPrefix='marcxml', max_records = 1, set='iish.evergreen.biblio', ignore_deleted=True) ##GOOD ONE\n",
    "\n",
    "## Evergreen\n",
    "# records = sickle.ListRecords(metadataPrefix='marcxml', ignore_deleted=True) #for Evergreen\n",
    "\n",
    "print(records)"
   ]
  },
  {
   "cell_type": "code",
   "execution_count": null,
   "metadata": {},
   "outputs": [],
   "source": [
    "# Consecutive harvesting\n",
    "records.next()"
   ]
  },
  {
   "cell_type": "code",
   "execution_count": null,
   "metadata": {},
   "outputs": [],
   "source": [
    "# getting a single record\n",
    "\n",
    "# Socialhistoryservices\n",
    "# test_record = sickle.GetRecord(identifier='oai:socialhistoryservices.org:iish.evergreen.authority:571330', metadataPrefix='marcxml')\n",
    "test_record = sickle.GetRecord(identifier='oai:socialhistoryservices.org:1292895', metadataPrefix='marcxml')\n",
    "\n",
    "\n",
    "# Evergreen\n",
    "# test_record = sickle.GetRecord(identifier='oai:evergreen.iisg.amsterdam:527', metadataPrefix='marcxml') # Evergreen oai authority\n",
    "# test_record = sickle.GetRecord(identifier='oai:evergreen.iisg.amsterdam:8', metadataPrefix='marcxml') # Evergreen oai biblio record\n",
    "\n",
    "\n",
    "print(test_record)"
   ]
  },
  {
   "cell_type": "code",
   "execution_count": null,
   "metadata": {},
   "outputs": [],
   "source": [
    "# harvesting OAI responses (save the whole XML response returned by the server: passign the iterator)\n",
    "sickle = Sickle(URL, iterator=OAIResponseIterator)"
   ]
  },
  {
   "cell_type": "code",
   "execution_count": null,
   "metadata": {},
   "outputs": [],
   "source": [
    "# Getting responses (to get them all, delete parameter max_records)\n",
    "\n",
    "## Socialhistoryservices\n",
    "# responses = sickle.ListRecords(metadataPrefix='marcxml', max_records = 1, set='iish.evergreen.authority', ignore_deleted=True) # socialhistoryservices, authorities\n",
    "responses = sickle.ListRecords(metadataPrefix='marcxml', max_records = 1, set='iish.evergreen.biblio', ignore_deleted=True) # socialhistoryservices, biblio\n",
    "\n",
    "## Evergreen\n",
    "# responses = sickle.ListRecords(metadataPrefix='marcxml', ignore_deleted=True) # Evergreen\n",
    "\n",
    "# for record in responses:\n",
    "#     print(record.raw.encode('utf8'))"
   ]
  },
  {
   "cell_type": "code",
   "execution_count": null,
   "metadata": {},
   "outputs": [],
   "source": [
    "responses.next()"
   ]
  },
  {
   "cell_type": "code",
   "execution_count": null,
   "metadata": {},
   "outputs": [],
   "source": [
    "# file_name = 'test_export_12may.xml' # export 12 May 2023 of all records from socialhistoryservices authorities\n",
    "# file_name = 'export_20230516_evergreen.xml' # export of all records from evergreen oai authorities\n",
    "# file_name = 'export_20230516_evergreen_biblio.xml' # export of all records from evergreen oai bibliographic records\n",
    "file_name = 'export_20230516_sohiserv_biblio_fromhome.xml' # export of all records from evergreen oai bibliographic records\n",
    "\n",
    "# export records\n",
    "with open(file_name, 'wb') as fp:\n",
    "    for record in responses:\n",
    "        fp.write(record.raw.encode('utf8'))"
   ]
  },
  {
   "cell_type": "markdown",
   "metadata": {},
   "source": [
    "## other libraries to test"
   ]
  },
  {
   "cell_type": "code",
   "execution_count": null,
   "metadata": {},
   "outputs": [],
   "source": [
    "#install https://pypi.org/project/oaiharvest/ --> I already installed it, so, I comment this line\n",
    "#pip install http://github.com/bloomonkey/oai-harvest.git #egg=oaiharvest\n",
    "\n",
    "# install https://github.com/bloomonkey/oai-harvest\n",
    "# pip install oaiharvest"
   ]
  },
  {
   "cell_type": "code",
   "execution_count": null,
   "metadata": {},
   "outputs": [],
   "source": [
    "# TO TEST: Recommended by Rik Hoekstra\n",
    "# pyoaiharvester (https://github.com/vphill/pyoaiharvester)"
   ]
  },
  {
   "cell_type": "code",
   "execution_count": null,
   "metadata": {},
   "outputs": [],
   "source": [
    "# TO TEST: Recommended by Menzo Windhouwer\n",
    "# Hi \n",
    "# @Liliana Melgar\n",
    "# , we (\n",
    "# @Vic\n",
    "#  and I) have extensive experience with OAI-PMH harvesting using https://github.com/clarin-eric/oai-harvest-manager which is Java based not Python."
   ]
  }
 ],
 "metadata": {
  "kernelspec": {
   "display_name": "Python 3 (ipykernel)",
   "language": "python",
   "name": "python3"
  },
  "language_info": {
   "codemirror_mode": {
    "name": "ipython",
    "version": 3
   },
   "file_extension": ".py",
   "mimetype": "text/x-python",
   "name": "python",
   "nbconvert_exporter": "python",
   "pygments_lexer": "ipython3",
   "version": "3.9.13"
  },
  "toc": {
   "base_numbering": 1,
   "nav_menu": {},
   "number_sections": true,
   "sideBar": true,
   "skip_h1_title": false,
   "title_cell": "Table of Contents",
   "title_sidebar": "Contents",
   "toc_cell": false,
   "toc_position": {},
   "toc_section_display": true,
   "toc_window_display": false
  }
 },
 "nbformat": 4,
 "nbformat_minor": 4
}
